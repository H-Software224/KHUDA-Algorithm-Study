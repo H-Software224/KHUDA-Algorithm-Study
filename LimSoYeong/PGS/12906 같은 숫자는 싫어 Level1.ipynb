{
 "cells": [
  {
   "cell_type": "markdown",
   "metadata": {},
   "source": [
    "## **[PGS] 같은 숫자는 싫어**\n",
    "* 문제 : https://school.programmers.co.kr/learn/courses/30/lessons/12906\n",
    "\n",
    "* 내 풀이\n",
    "  "
   ]
  },
  {
   "cell_type": "code",
   "execution_count": null,
   "metadata": {},
   "outputs": [],
   "source": [
    "def solution(arr):\n",
    "    re = [arr[0]]\n",
    "    for i in range(1, len(arr)):\n",
    "        if arr[i] != arr[i-1]:\n",
    "            re.append(arr[i])\n",
    "    return re"
   ]
  }
 ],
 "metadata": {
  "language_info": {
   "name": "python"
  }
 },
 "nbformat": 4,
 "nbformat_minor": 2
}
