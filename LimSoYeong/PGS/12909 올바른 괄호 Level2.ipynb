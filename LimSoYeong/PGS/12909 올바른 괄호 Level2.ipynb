{
 "cells": [
  {
   "cell_type": "markdown",
   "metadata": {},
   "source": [
    "## **[PGS] 올바른 괄호**\n",
    "* 문제 : https://school.programmers.co.kr/learn/courses/30/lessons/12909"
   ]
  },
  {
   "cell_type": "markdown",
   "metadata": {},
   "source": [
    "##### **틀린 답**\n",
    "이렇게 하면 효율성 테스트를 통과하지 못 한다"
   ]
  },
  {
   "cell_type": "code",
   "execution_count": null,
   "metadata": {},
   "outputs": [],
   "source": [
    "def solution(s):\n",
    "    s = [i for i in s]\n",
    "    while True:\n",
    "        try:\n",
    "            if len(s) == 0:\n",
    "                return True\n",
    "            if s[0] == ')':\n",
    "                return False\n",
    "            s.remove('(')\n",
    "            s.remove(')')\n",
    "        except:\n",
    "            return False"
   ]
  },
  {
   "cell_type": "markdown",
   "metadata": {},
   "source": [
    "#### **내 풀이**\n",
    "* '('과 ')' 개수로 판단하는 것이 더 효율적이다.\n",
    "* 우선 '('로 먼저 시작하지 않거나, '('와 ')'의 개수가 다른 경우에는 False를 리턴한다.\n",
    "* 개수가 같은 경우에 주의해야 하는 부분이 '((())))(()' 처럼, 두 개의 개수는 같지만, 앞에서부터 순차적으로 보았을 때 닫는 괄호의 개수가 더 많아지면 False가 된다."
   ]
  },
  {
   "cell_type": "code",
   "execution_count": null,
   "metadata": {},
   "outputs": [],
   "source": [
    "def solution(s):\n",
    "    if (s[0] != '(')|(s.count('(') != s.count(')')):\n",
    "        return False\n",
    "    cnt = [0,0]\n",
    "    for i in s:\n",
    "        if i == '(':\n",
    "            cnt[0] += 1\n",
    "        else: cnt[1] += 1\n",
    "        if cnt[0] < cnt[1]:\n",
    "            return False\n",
    "    return True"
   ]
  }
 ],
 "metadata": {
  "language_info": {
   "name": "python"
  }
 },
 "nbformat": 4,
 "nbformat_minor": 2
}
