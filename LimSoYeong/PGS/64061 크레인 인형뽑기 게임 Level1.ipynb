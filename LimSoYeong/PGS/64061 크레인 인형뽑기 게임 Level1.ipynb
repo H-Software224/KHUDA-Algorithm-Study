{
 "cells": [
  {
   "cell_type": "markdown",
   "metadata": {},
   "source": [
    "## **[PGS] 크레인 인형뽑기 게임**\n",
    "* 문제 : https://school.programmers.co.kr/learn/courses/30/lessons/64061"
   ]
  },
  {
   "cell_type": "markdown",
   "metadata": {},
   "source": [
    "#### **내 풀이**\n",
    "문제에서 말하는 과정을 그대로 구현하면 된다.\n",
    "한 열인 바구니를 `can`이라고 두었고, 사라지는 인형 수를 `pop_cnt`라고 두었다."
   ]
  },
  {
   "cell_type": "code",
   "execution_count": null,
   "metadata": {},
   "outputs": [],
   "source": [
    "def solution(board, moves):\n",
    "    can = []\n",
    "    pop_cnt = 0\n",
    "    for i in moves:\n",
    "        # 1. can 집어넣는다\n",
    "        line = [x[i-1] for x in board]\n",
    "        char = [x for x in line if x != 0]\n",
    "        if len(char) == 0:\n",
    "            continue\n",
    "        can.append(char[0])\n",
    "\n",
    "        # 2. board에서 뺀다 (0으로 만든다.)\n",
    "        index = line.index(char[0])\n",
    "        board[index][i-1] = 0\n",
    "\n",
    "        # 3. can에 같은 게 두 개면 pop\n",
    "        size = len(can)\n",
    "        if size > 1:\n",
    "            if can[-1] == can[-2]:\n",
    "                pop_cnt += 2\n",
    "                can = can[:size-2]\n",
    "    return pop_cnt"
   ]
  }
 ],
 "metadata": {
  "language_info": {
   "name": "python"
  }
 },
 "nbformat": 4,
 "nbformat_minor": 2
}
