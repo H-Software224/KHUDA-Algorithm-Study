{
 "cells": [
  {
   "cell_type": "markdown",
   "metadata": {},
   "source": [
    "## **[PGS] H-Index**\n",
    "* 문제 : https://school.programmers.co.kr/learn/courses/30/lessons/42747\n",
    "\n",
    "* 내 풀이\n",
    "  * `max_cite` 인용 수를 의미한다.\n",
    "  * 처음에 인용수(`max_cite`)를 논문수(`len(citation)`)으로 지정한다.\n",
    "  * `max_cite`로 나눴을 때 몫이 0 초과인, 즉 max_cite 인용수보다 같거나 더 많이 인용된 논문의 수를 above_citations로 지정한다. \n",
    "  * 만약 above_citations가 max_cite 보다 크면 이를 반환하고 종료한다.\n",
    "  * 만약 max_cite가 0이 되면 0을 반환하고 종료한다.\n",
    "  * max_cite를 1씩 줄여가며 이를 반복한다.\n",
    "\n",
    "\n",
    "* 헤맸던 점\n",
    "  * 마지막 16번 케이스만 '런타임 에러'라고 떴다. [0, 0, 0, 0] 인 경우 답이 0이 나와야 하는데, 이때 `x//max_cite`라고 한 부분에서 max_cite=0 이 되면서 에러가 났었다."
   ]
  },
  {
   "cell_type": "code",
   "execution_count": null,
   "metadata": {},
   "outputs": [],
   "source": [
    "def solution(citations):\n",
    "    max_cite = len(citations)\n",
    "    while True:\n",
    "        if max_cite == 0:\n",
    "            return 0\n",
    "        above_citations = len([x for x in citations[::-1] if x//max_cite > 0])\n",
    "        if  above_citations >= max_cite:\n",
    "            return max_cite\n",
    "        max_cite -= 1"
   ]
  }
 ],
 "metadata": {
  "language_info": {
   "name": "python"
  }
 },
 "nbformat": 4,
 "nbformat_minor": 2
}
