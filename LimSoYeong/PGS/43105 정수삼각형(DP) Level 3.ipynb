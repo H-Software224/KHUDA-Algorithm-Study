{
 "cells": [
  {
   "cell_type": "markdown",
   "metadata": {},
   "source": [
    "## **[PGS] 정수 삼각형**\n",
    "* 문제 : https://school.programmers.co.kr/learn/courses/30/lessons/43105\n",
    "\n",
    "* 내 풀이\n",
    "  * Tabulation(Bottom-up) 방식으로 삼각형 아래에서부터 위로 채워나가는 방식을 사용했다."
   ]
  },
  {
   "cell_type": "code",
   "execution_count": null,
   "metadata": {},
   "outputs": [],
   "source": [
    "def solution(triangle):\n",
    "    mx_list = [triangle[-1]]\n",
    "    for hier in triangle[len(triangle)-2::-1]:\n",
    "        hier_mx = [max(mx_list[-1][i], mx_list[-1][i+1]) + hier[i] for i in range(len(hier))]\n",
    "        mx_list.append(hier_mx)\n",
    "    return mx_list[-1][0]"
   ]
  }
 ],
 "metadata": {
  "language_info": {
   "name": "python"
  }
 },
 "nbformat": 4,
 "nbformat_minor": 2
}
