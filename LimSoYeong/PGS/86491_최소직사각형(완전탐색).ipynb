{
 "cells": [
  {
   "cell_type": "markdown",
   "metadata": {},
   "source": [
    "#### **내 풀이**\n",
    "가로, 세로 중 한 쪽만 더 크게 만든 다음, 가로 중 최대값과 세로 중 최대값을 구했다."
   ]
  },
  {
   "cell_type": "code",
   "execution_count": null,
   "metadata": {},
   "outputs": [],
   "source": [
    "def solution(sizes):\n",
    "    for i in range(len(sizes)):\n",
    "        if sizes[i][0] < sizes[i][1]:\n",
    "            sizes[i][0], sizes[i][1] = sizes[i][1], sizes[i][0]\n",
    "            \n",
    "    ga = max(sizes, key=lambda x : x[0])[0]\n",
    "    se = max(sizes, key=lambda x : x[1])[1]\n",
    "    return ga*se"
   ]
  },
  {
   "cell_type": "markdown",
   "metadata": {},
   "source": [
    "#### **다른 풀이**\n",
    "내 풀이처럼 위치를 바꿀 필요 없이, 각 size에서 큰 것끼리 모아 그것중 최대값, 작은 거끼리 모아 그것 중에서 최대값을 곱해줘도 된다."
   ]
  },
  {
   "cell_type": "code",
   "execution_count": null,
   "metadata": {},
   "outputs": [],
   "source": [
    "def solution(sizes):\n",
    "    return max(max(x) for x in sizes) * max(min(x) for x in sizes)"
   ]
  }
 ],
 "metadata": {
  "language_info": {
   "name": "python"
  }
 },
 "nbformat": 4,
 "nbformat_minor": 2
}
