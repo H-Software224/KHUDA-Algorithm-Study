{
 "cells": [
  {
   "cell_type": "markdown",
   "metadata": {},
   "source": [
    "## **[PGS] 기능개발**\n",
    "* 문제 : https://school.programmers.co.kr/learn/courses/30/lessons/42586"
   ]
  },
  {
   "cell_type": "markdown",
   "metadata": {},
   "source": [
    "#### **내 풀이**\n",
    "* 각 기능을 완료하기까지 걸리는 시간(일)을 계산한 days 리스트를 만들었다."
   ]
  },
  {
   "cell_type": "code",
   "execution_count": null,
   "metadata": {},
   "outputs": [],
   "source": [
    "def solution(progresses, speeds):\n",
    "    days = [(100-progresses[i])//speeds[i] if (100-progresses[i])%speeds[i] == 0 else (100-progresses[i])//speeds[i] + 1 for i in range(len(speeds))]\n",
    "    result = []\n",
    "    cnt = 1\n",
    "    i = 0\n",
    "    for d in range(1, len(days)):\n",
    "        if days[d] <= days[i]:\n",
    "            cnt += 1\n",
    "        elif days[d] > days[i]:\n",
    "            result.append(cnt)\n",
    "            i = d\n",
    "            cnt = 1\n",
    "    result.append(cnt)\n",
    "    return result"
   ]
  },
  {
   "cell_type": "markdown",
   "metadata": {},
   "source": [
    "##### **다른 풀이1**\n",
    "완료하기까지 걸리는 일을 구하기 위해, speed로 나누었을 때 나머지가 나오면 1일을 더해줬어야 한다. 내 풀이에서는 나머지를 계산해서 if문을 사용했는데, 아래처럼 ceil()을 사용하면 나머지가 나올 때 올림이 된다..!\n",
    "\n",
    "```daysLeft = list(map(lambda x: (ceil((100 - progresses[x]) / speeds[x])), range(len(progresses))))```"
   ]
  },
  {
   "cell_type": "markdown",
   "metadata": {},
   "source": [
    "##### **다른 풀이2**\n",
    "이렇게 간단하게도 쓸 수 있다!!!\n",
    "\n",
    "* 100-p말고, -(p-100) 을 쓴 이유? :sparkles:\n",
    "  * math.ceil 없이 올림을 사용한 것. (p-100) => 음수, (p-100) // s => 내림한 음수(음수에서 내림은 절대값은 커짐), -((p-100)//s) => 올림한 양수\n",
    "\n",
    "* Q에는 [남은(기준)일수, 기능개수] 로 요소를 저장한다. 새로운 p,s 가 들어왔을 때 남은 일수(`-((p-100)//s)`)가 기준 일수보다 작으면 기능 개수 += 1 를 해준다.\n",
    "* 남은 일수가 기준 일수보다 크면 새로 [남은일수, 기능개수]를 Q에 append해준다.\n",
    "* 그럼 Q = [[7, 2], [9, 1]] 이런 식으로 만들어지고, `[q[1] for q in Q]`를 리턴하면 된다.\n"
   ]
  },
  {
   "cell_type": "code",
   "execution_count": null,
   "metadata": {},
   "outputs": [],
   "source": [
    "def solution(progresses, speeds):\n",
    "    Q=[]\n",
    "    for p, s in zip(progresses, speeds):\n",
    "        if len(Q)==0 or Q[-1][0] < -((p-100)//s):\n",
    "            Q.append([-((p-100)//s),1])\n",
    "        else:\n",
    "            Q[-1][1]+=1\n",
    "    return [q[1] for q in Q]"
   ]
  }
 ],
 "metadata": {
  "kernelspec": {
   "display_name": "Python 3",
   "language": "python",
   "name": "python3"
  },
  "language_info": {
   "codemirror_mode": {
    "name": "ipython",
    "version": 3
   },
   "file_extension": ".py",
   "mimetype": "text/x-python",
   "name": "python",
   "nbconvert_exporter": "python",
   "pygments_lexer": "ipython3",
   "version": "3.10.6"
  }
 },
 "nbformat": 4,
 "nbformat_minor": 2
}
