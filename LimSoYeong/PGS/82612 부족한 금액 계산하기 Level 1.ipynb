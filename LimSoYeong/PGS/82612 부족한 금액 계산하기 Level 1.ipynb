{
 "cells": [
  {
   "cell_type": "markdown",
   "metadata": {},
   "source": [
    "## **[PGS] 부족한 금액 계산하기**\n",
    "* 문제 : https://school.programmers.co.kr/learn/courses/30/lessons/82612\n"
   ]
  },
  {
   "cell_type": "code",
   "execution_count": null,
   "metadata": {},
   "outputs": [],
   "source": [
    "# 내 풀이\n",
    "def solution(price, money, count):\n",
    "    result = price*(count+1)*count/2 - money\n",
    "    if result < 0:\n",
    "        return 0\n",
    "    return result"
   ]
  },
  {
   "cell_type": "code",
   "execution_count": null,
   "metadata": {},
   "outputs": [],
   "source": [
    "# 이렇게 max() 써서 한 줄로도 가능!\n",
    "def solution(price, money, count):\n",
    "    return max(0,price*(count+1)*count//2-money)"
   ]
  }
 ],
 "metadata": {
  "language_info": {
   "name": "python"
  }
 },
 "nbformat": 4,
 "nbformat_minor": 2
}
