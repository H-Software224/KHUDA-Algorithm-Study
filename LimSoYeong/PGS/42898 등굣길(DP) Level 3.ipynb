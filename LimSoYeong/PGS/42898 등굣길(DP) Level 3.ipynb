{
 "cells": [
  {
   "cell_type": "markdown",
   "metadata": {},
   "source": [
    "## **[PGS] 등굣길**\n",
    "* 문제 : https://school.programmers.co.kr/learn/courses/30/lessons/42898\n",
    "\n",
    "* 내 풀이\n",
    "  * 오른쪽 아래로 내려가면서 route의 수를 더하는 방식을 썼다. puddle은 리스트에서 `None`으로 만들었다. \n",
    "  * 어려웠던 부분이 1행 또는 1열에 puddle이 있는 경우 그쪽으로는 못 가게 만들어야 했던 거다.\n",
    "  * 코드 좀 더 줄여볼 수 있을 것 같다.."
   ]
  },
  {
   "cell_type": "code",
   "execution_count": null,
   "metadata": {},
   "outputs": [],
   "source": [
    "def solution(m, n, puddles):\n",
    "    route = [[1 if x == 0 else 0 for x in range(m)] for _ in range(n)]\n",
    "    route[0] = [1 for _ in range(m)]\n",
    "    for puddle in puddles:\n",
    "        if puddle[0] == 1:\n",
    "            for i in range(puddle[1]-1, n):\n",
    "                route[i][0] = None\n",
    "        elif puddle[1] == 1:\n",
    "            for i in range(puddle[0]-1, m):\n",
    "                route[0][i] = None\n",
    "        else:\n",
    "            route[puddle[1]-1][puddle[0]-1] = None\n",
    "    for x in range(1, n):\n",
    "        for y in range(1, m):\n",
    "            if route[x][y] == None:\n",
    "                continue\n",
    "            up = route[x-1][y]\n",
    "            left = route[x][y-1]\n",
    "            if left != None and up != None:\n",
    "                route[x][y] = up + left\n",
    "            elif left != None and up == None:\n",
    "                route[x][y] = left\n",
    "            elif left == None and up != None:\n",
    "                route[x][y] = up\n",
    "            elif left == None and left == None:\n",
    "                route[x][y] = 0\n",
    "    return route[n-1][m-1] % 1000000007"
   ]
  }
 ],
 "metadata": {
  "language_info": {
   "name": "python"
  }
 },
 "nbformat": 4,
 "nbformat_minor": 2
}
